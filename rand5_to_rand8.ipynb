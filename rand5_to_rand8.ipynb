{
  "nbformat": 4,
  "nbformat_minor": 0,
  "metadata": {
    "colab": {
      "provenance": []
    },
    "kernelspec": {
      "name": "python3",
      "display_name": "Python 3"
    },
    "language_info": {
      "name": "python"
    }
  },
  "cells": [
    {
      "cell_type": "code",
      "execution_count": 188,
      "metadata": {
        "id": "vpST84mgyvze"
      },
      "outputs": [],
      "source": [
        "import random\n",
        "import matplotlib.pyplot as plt"
      ]
    },
    {
      "cell_type": "code",
      "source": [
        "def rand5():\n",
        "  return random.randint(1,5)"
      ],
      "metadata": {
        "id": "R7i3TP1X4LDo"
      },
      "execution_count": 189,
      "outputs": []
    },
    {
      "cell_type": "code",
      "source": [
        "A=[i for i in range(0,25)]"
      ],
      "metadata": {
        "id": "ZLL9a2n24du-"
      },
      "execution_count": 190,
      "outputs": []
    },
    {
      "cell_type": "markdown",
      "source": [
        "# La distribution des valeurs de Rand7 en fonction de Rand5\n",
        "\n",
        "\n"
      ],
      "metadata": {
        "id": "IkEe-TFI62Iy"
      }
    },
    {
      "cell_type": "code",
      "source": [
        "R=[0,0,0,0,0,0,0]\n",
        "for i in A:\n",
        "  if i<21:\n",
        "    R[i%7]+=1\n",
        "R"
      ],
      "metadata": {
        "colab": {
          "base_uri": "https://localhost:8080/"
        },
        "id": "jmJ4aF3J41Em",
        "outputId": "88ffbb59-edf5-45cc-9f7c-2eab9088f6c9"
      },
      "execution_count": 191,
      "outputs": [
        {
          "output_type": "execute_result",
          "data": {
            "text/plain": [
              "[3, 3, 3, 3, 3, 3, 3]"
            ]
          },
          "metadata": {},
          "execution_count": 191
        }
      ]
    },
    {
      "cell_type": "code",
      "source": [
        "F=[]\n",
        "for i in range(1,10000):\n",
        "  F.append(rand5())\n",
        "plt.hist(F,50)\n",
        "plt.xlabel('les valeurs pousible')\n",
        "plt.ylabel(\"nombre d'occurrence\")\n",
        "\n",
        "plt.show"
      ],
      "metadata": {
        "colab": {
          "base_uri": "https://localhost:8080/",
          "height": 296
        },
        "id": "FWu2IQ-0QfGW",
        "outputId": "fdd59640-950f-4913-c459-35702ef21788"
      },
      "execution_count": 192,
      "outputs": [
        {
          "output_type": "execute_result",
          "data": {
            "text/plain": [
              "<function matplotlib.pyplot.show(*args, **kw)>"
            ]
          },
          "metadata": {},
          "execution_count": 192
        },
        {
          "output_type": "display_data",
          "data": {
            "text/plain": [
              "<Figure size 432x288 with 1 Axes>"
            ],
            "image/png": "[encoded data removed]"
          },
          "metadata": {
            "needs_background": "light"
          }
        }
      ]
    },
    {
      "cell_type": "markdown",
      "source": [
        "**Ce rsultat peuve que on a une distrubuton uniforme des valeure pousible**"
      ],
      "metadata": {
        "id": "vvqxeK077OFL"
      }
    },
    {
      "cell_type": "markdown",
      "source": [
        "# Rand8 en foncton de rand5"
      ],
      "metadata": {
        "id": "m6mtPE1q7FEs"
      }
    },
    {
      "cell_type": "code",
      "source": [
        "def rand8():\n",
        "  while True:\n",
        "    T=5*(rand5()-1)+rand5()-1\n",
        "    if T<24:\n",
        "      return (T%8)+1\n"
      ],
      "metadata": {
        "id": "3MQXPEDa7EsH"
      },
      "execution_count": 193,
      "outputs": []
    },
    {
      "cell_type": "code",
      "source": [
        "R=[0,0,0,0,0,0,0,0]\n",
        "for i in A:\n",
        "  if i<24:\n",
        "    R[i%8]+=1\n",
        "R"
      ],
      "metadata": {
        "colab": {
          "base_uri": "https://localhost:8080/"
        },
        "id": "hLHjhnpEM5fZ",
        "outputId": "49f4c006-6577-40a5-aecc-9022ccd6c9cf"
      },
      "execution_count": 194,
      "outputs": [
        {
          "output_type": "execute_result",
          "data": {
            "text/plain": [
              "[3, 3, 3, 3, 3, 3, 3, 3]"
            ]
          },
          "metadata": {},
          "execution_count": 194
        }
      ]
    },
    {
      "cell_type": "code",
      "source": [
        "F=[]\n",
        "for i in range(1,10000):\n",
        "  F.append(rand8())\n",
        "plt.hist(F,50)\n",
        "plt.xlabel('les valeurs pousible')\n",
        "plt.ylabel(\"nombre d'occurrence\")\n",
        "plt.show"
      ],
      "metadata": {
        "colab": {
          "base_uri": "https://localhost:8080/",
          "height": 296
        },
        "id": "tOmwId_u0aGx",
        "outputId": "ca8267e2-6142-49ec-90a6-745e6d152eb8"
      },
      "execution_count": 195,
      "outputs": [
        {
          "output_type": "execute_result",
          "data": {
            "text/plain": [
              "<function matplotlib.pyplot.show(*args, **kw)>"
            ]
          },
          "metadata": {},
          "execution_count": 195
        },
        {
          "output_type": "display_data",
          "data": {
            "text/plain": [
              "<Figure size 432x288 with 1 Axes>"
            ],
            "image/png": "[encoded data removed]"
          },
          "metadata": {
            "needs_background": "light"
          }
        }
      ]
    },
    {
      "cell_type": "markdown",
      "source": [
        "**Ce rsultat peuve que on a une distrubuton uniforme des valeure pousible**"
      ],
      "metadata": {
        "id": "xAkrFmbcQS6u"
      }
    }
  ]
}