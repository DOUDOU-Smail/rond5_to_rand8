{
  "nbformat": 4,
  "nbformat_minor": 0,
  "metadata": {
    "colab": {
      "provenance": []
    },
    "kernelspec": {
      "name": "python3",
      "display_name": "Python 3"
    },
    "language_info": {
      "name": "python"
    }
  },
  "cells": [
    {
      "cell_type": "code",
      "execution_count": 177,
      "metadata": {
        "id": "vpST84mgyvze"
      },
      "outputs": [],
      "source": [
        "import random\n",
        "import matplotlib.pyplot as plt"
      ]
    },
    {
      "cell_type": "code",
      "source": [
        "def rand5():\n",
        "  return random.randint(1,5)"
      ],
      "metadata": {
        "id": "R7i3TP1X4LDo"
      },
      "execution_count": 178,
      "outputs": []
    },
    {
      "cell_type": "code",
      "source": [
        "A=[i for i in range(0,25)]"
      ],
      "metadata": {
        "id": "ZLL9a2n24du-"
      },
      "execution_count": 180,
      "outputs": []
    },
    {
      "cell_type": "markdown",
      "source": [
        "# La distrubution des valeur pour Rand7 en fonction de Rand5"
      ],
      "metadata": {
        "id": "IkEe-TFI62Iy"
      }
    },
    {
      "cell_type": "code",
      "source": [
        "R=[0,0,0,0,0,0,0]\n",
        "for i in A:\n",
        "  if i<21:\n",
        "    R[i%7]+=1\n",
        "R"
      ],
      "metadata": {
        "colab": {
          "base_uri": "https://localhost:8080/"
        },
        "id": "jmJ4aF3J41Em",
        "outputId": "00bf9d22-10ea-4097-99b4-2a2e788a84ef"
      },
      "execution_count": 182,
      "outputs": [
        {
          "output_type": "execute_result",
          "data": {
            "text/plain": [
              "[3, 3, 3, 3, 3, 3, 3]"
            ]
          },
          "metadata": {},
          "execution_count": 182
        }
      ]
    },
    {
      "cell_type": "code",
      "source": [
        "F=[]\n",
        "for i in range(1,10000):\n",
        "  F.append(rand5())\n",
        "plt.hist(F,50)\n",
        "plt.xlabel('les valeur pousible')\n",
        "plt.ylabel(\"nombre d'occurrence\")\n",
        "\n",
        "plt.show"
      ],
      "metadata": {
        "colab": {
          "base_uri": "https://localhost:8080/",
          "height": 296
        },
        "id": "FWu2IQ-0QfGW",
        "outputId": "e570ee78-2fdd-4c48-ffa2-fc87def6b742"
      },
      "execution_count": 183,
      "outputs": [
        {
          "output_type": "execute_result",
          "data": {
            "text/plain": [
              "<function matplotlib.pyplot.show(*args, **kw)>"
            ]
          },
          "metadata": {},
          "execution_count": 183
        },
        {
          "output_type": "display_data",
          "data": {
            "text/plain": [
              "<Figure size 432x288 with 1 Axes>"
            ],
            "image/png": "[encoded data removed]"
          },
          "metadata": {
            "needs_background": "light"
          }
        }
      ]
    },
    {
      "cell_type": "markdown",
      "source": [
        "**Ce rsultat peuve que on a une distrubuton uniforme des valeure pousible**"
      ],
      "metadata": {
        "id": "vvqxeK077OFL"
      }
    },
    {
      "cell_type": "markdown",
      "source": [
        "# Rand8 en foncton de rand5"
      ],
      "metadata": {
        "id": "m6mtPE1q7FEs"
      }
    },
    {
      "cell_type": "code",
      "source": [
        "def rand8():\n",
        "  while True:\n",
        "    T=5*(rand5()-1)+rand5()-1\n",
        "    if T<24:\n",
        "      return (T%8)+1\n"
      ],
      "metadata": {
        "id": "3MQXPEDa7EsH"
      },
      "execution_count": 184,
      "outputs": []
    },
    {
      "cell_type": "code",
      "source": [
        "R=[0,0,0,0,0,0,0,0]\n",
        "for i in A:\n",
        "  if i<24:\n",
        "    R[i%8]+=1\n",
        "R"
      ],
      "metadata": {
        "colab": {
          "base_uri": "https://localhost:8080/"
        },
        "id": "hLHjhnpEM5fZ",
        "outputId": "0ff136ac-f971-4d9e-f595-3cbbbf859b67"
      },
      "execution_count": 185,
      "outputs": [
        {
          "output_type": "execute_result",
          "data": {
            "text/plain": [
              "[3, 3, 3, 3, 3, 3, 3, 3]"
            ]
          },
          "metadata": {},
          "execution_count": 185
        }
      ]
    },
    {
      "cell_type": "code",
      "source": [
        "F=[]\n",
        "for i in range(1,10000):\n",
        "  F.append(rand8())\n",
        "plt.hist(F,50)\n",
        "plt.xlabel('les valeur pousible')\n",
        "plt.ylabel(\"nombre d'occurrence\")\n",
        "plt.show"
      ],
      "metadata": {
        "colab": {
          "base_uri": "https://localhost:8080/",
          "height": 296
        },
        "id": "tOmwId_u0aGx",
        "outputId": "f4f95cc7-cbd6-45a0-b31d-4b39f00de524"
      },
      "execution_count": 186,
      "outputs": [
        {
          "output_type": "execute_result",
          "data": {
            "text/plain": [
              "<function matplotlib.pyplot.show(*args, **kw)>"
            ]
          },
          "metadata": {},
          "execution_count": 186
        },
        {
          "output_type": "display_data",
          "data": {
            "text/plain": [
              "<Figure size 432x288 with 1 Axes>"
            ],
            "image/png": "[encoded data removed]"
          },
          "metadata": {
            "needs_background": "light"
          }
        }
      ]
    },
    {
      "cell_type": "markdown",
      "source": [
        "**Ce rsultat peuve que on a une distrubuton uniforme des valeure pousible**"
      ],
      "metadata": {
        "id": "xAkrFmbcQS6u"
      }
    }
  ]
}